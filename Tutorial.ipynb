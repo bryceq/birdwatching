{
 "cells": [
  {
   "cell_type": "markdown",
   "metadata": {},
   "source": [
    "# Example 1: Getting Started\n",
    "\n",
    "In which we learn about indicators and models"
   ]
  },
  {
   "cell_type": "code",
   "execution_count": 2,
   "metadata": {
    "scrolled": true
   },
   "outputs": [],
   "source": [
    "import robin_stocks as r\n",
    "import pandas as pd\n",
    "\n",
    "# logging into robinhood\n",
    "r.login()"
   ]
  },
  {
   "cell_type": "code",
   "execution_count": 3,
   "metadata": {},
   "outputs": [],
   "source": [
    "# setting watchlist\n",
    "basket = ['FB','AAPL','TSLA','NFLX']"
   ]
  },
  {
   "cell_type": "code",
   "execution_count": 4,
   "metadata": {},
   "outputs": [
    {
     "data": {
      "text/html": [
       "<div>\n",
       "<style scoped>\n",
       "    .dataframe tbody tr th:only-of-type {\n",
       "        vertical-align: middle;\n",
       "    }\n",
       "\n",
       "    .dataframe tbody tr th {\n",
       "        vertical-align: top;\n",
       "    }\n",
       "\n",
       "    .dataframe thead th {\n",
       "        text-align: right;\n",
       "    }\n",
       "</style>\n",
       "<table border=\"1\" class=\"dataframe\">\n",
       "  <thead>\n",
       "    <tr style=\"text-align: right;\">\n",
       "      <th></th>\n",
       "      <th>begins_at</th>\n",
       "      <th>open_price</th>\n",
       "      <th>close_price</th>\n",
       "      <th>high_price</th>\n",
       "      <th>low_price</th>\n",
       "      <th>volume</th>\n",
       "      <th>session</th>\n",
       "      <th>interpolated</th>\n",
       "      <th>symbol</th>\n",
       "    </tr>\n",
       "  </thead>\n",
       "  <tbody>\n",
       "    <tr>\n",
       "      <th>0</th>\n",
       "      <td>2019-07-18T00:00:00Z</td>\n",
       "      <td>200.150000</td>\n",
       "      <td>200.780000</td>\n",
       "      <td>202.470000</td>\n",
       "      <td>199.380000</td>\n",
       "      <td>11956554</td>\n",
       "      <td>reg</td>\n",
       "      <td>False</td>\n",
       "      <td>FB</td>\n",
       "    </tr>\n",
       "    <tr>\n",
       "      <th>1</th>\n",
       "      <td>2019-07-19T00:00:00Z</td>\n",
       "      <td>202.180000</td>\n",
       "      <td>198.360000</td>\n",
       "      <td>202.330000</td>\n",
       "      <td>198.070000</td>\n",
       "      <td>12098262</td>\n",
       "      <td>reg</td>\n",
       "      <td>False</td>\n",
       "      <td>FB</td>\n",
       "    </tr>\n",
       "    <tr>\n",
       "      <th>2</th>\n",
       "      <td>2019-07-22T00:00:00Z</td>\n",
       "      <td>199.910000</td>\n",
       "      <td>202.320000</td>\n",
       "      <td>202.570000</td>\n",
       "      <td>198.810000</td>\n",
       "      <td>13589024</td>\n",
       "      <td>reg</td>\n",
       "      <td>False</td>\n",
       "      <td>FB</td>\n",
       "    </tr>\n",
       "    <tr>\n",
       "      <th>3</th>\n",
       "      <td>2019-07-23T00:00:00Z</td>\n",
       "      <td>202.840000</td>\n",
       "      <td>202.360000</td>\n",
       "      <td>204.242000</td>\n",
       "      <td>200.962500</td>\n",
       "      <td>14583680</td>\n",
       "      <td>reg</td>\n",
       "      <td>False</td>\n",
       "      <td>FB</td>\n",
       "    </tr>\n",
       "    <tr>\n",
       "      <th>4</th>\n",
       "      <td>2019-07-24T00:00:00Z</td>\n",
       "      <td>197.630000</td>\n",
       "      <td>204.660000</td>\n",
       "      <td>204.810000</td>\n",
       "      <td>197.220000</td>\n",
       "      <td>32532540</td>\n",
       "      <td>reg</td>\n",
       "      <td>False</td>\n",
       "      <td>FB</td>\n",
       "    </tr>\n",
       "  </tbody>\n",
       "</table>\n",
       "</div>"
      ],
      "text/plain": [
       "              begins_at  open_price close_price  high_price   low_price  \\\n",
       "0  2019-07-18T00:00:00Z  200.150000  200.780000  202.470000  199.380000   \n",
       "1  2019-07-19T00:00:00Z  202.180000  198.360000  202.330000  198.070000   \n",
       "2  2019-07-22T00:00:00Z  199.910000  202.320000  202.570000  198.810000   \n",
       "3  2019-07-23T00:00:00Z  202.840000  202.360000  204.242000  200.962500   \n",
       "4  2019-07-24T00:00:00Z  197.630000  204.660000  204.810000  197.220000   \n",
       "\n",
       "     volume session  interpolated symbol  \n",
       "0  11956554     reg         False     FB  \n",
       "1  12098262     reg         False     FB  \n",
       "2  13589024     reg         False     FB  \n",
       "3  14583680     reg         False     FB  \n",
       "4  32532540     reg         False     FB  "
      ]
     },
     "execution_count": 4,
     "metadata": {},
     "output_type": "execute_result"
    }
   ],
   "source": [
    "# getting data\n",
    "data = r.get_historicals(basket[0], span='year')\n",
    "df = pd.DataFrame(data)\n",
    "df.head()"
   ]
  },
  {
   "cell_type": "markdown",
   "metadata": {},
   "source": [
    "indicators.py contains functions that all take a dataframe and some kwargs as inputs, and then add a column to the dataframe "
   ]
  },
  {
   "cell_type": "code",
   "execution_count": 5,
   "metadata": {},
   "outputs": [],
   "source": [
    "# adding indicators\n",
    "from indicators import add_moving_average, add_RSI\n",
    "add_moving_average(df, n=200)\n",
    "add_moving_average(df, n=10)\n",
    "add_RSI(df, n=2)"
   ]
  },
  {
   "cell_type": "code",
   "execution_count": 6,
   "metadata": {},
   "outputs": [],
   "source": [
    "# creating a model\n",
    "from models import Mean_Reversion\n",
    "'''\n",
    "from models.py:\n",
    "implements a mean reversion strategy\n",
    "says buy if 1) price is higher than the 200_period_ma and 2) the 2_period_RSI is < 10\n",
    "says sell if price is lower than 10_period_ma\n",
    "'''\n",
    "strat = Mean_Reversion('MR', n_for_long_ma=200, n_for_short_ma=10, n_for_RSI=2)"
   ]
  },
  {
   "cell_type": "code",
   "execution_count": 8,
   "metadata": {},
   "outputs": [
    {
     "data": {
      "text/plain": [
       "True"
      ]
     },
     "execution_count": 8,
     "metadata": {},
     "output_type": "execute_result"
    }
   ],
   "source": [
    "# validating input\n",
    "strat.check_input(df)"
   ]
  },
  {
   "cell_type": "code",
   "execution_count": 10,
   "metadata": {},
   "outputs": [
    {
     "data": {
      "text/plain": [
       "False"
      ]
     },
     "execution_count": 10,
     "metadata": {},
     "output_type": "execute_result"
    }
   ],
   "source": [
    "# does the model think we should buy Facebook stock right now?\n",
    "strat.buy_signal(df)"
   ]
  },
  {
   "cell_type": "code",
   "execution_count": 11,
   "metadata": {},
   "outputs": [
    {
     "data": {
      "text/plain": [
       "False"
      ]
     },
     "execution_count": 11,
     "metadata": {},
     "output_type": "execute_result"
    }
   ],
   "source": [
    "# does the model think we should sell Facebook stock right now (assuming we have any)?\n",
    "strat.sell_signal(df)"
   ]
  },
  {
   "cell_type": "markdown",
   "metadata": {},
   "source": [
    "# Example 2: Trading\n",
    "\n",
    "Introducing the world and investor classes"
   ]
  },
  {
   "cell_type": "code",
   "execution_count": 12,
   "metadata": {},
   "outputs": [],
   "source": [
    "# build world\n",
    "from indicators import Moving_Average, RSI\n",
    "from world import world_from_live\n",
    "'''\n",
    "from world.py:\n",
    "The world class is the 'environment' within which the investor/model classes operate\n",
    "this layer of abstraction allows changing from backtesting to livetrading and back without\n",
    "changing the code that makes decisions\n",
    "'''\n",
    "w = world_from_live(basket, cash=10000, indicators=[Moving_Average(n=200), Moving_Average(n=10), RSI(2)])"
   ]
  },
  {
   "cell_type": "code",
   "execution_count": 13,
   "metadata": {},
   "outputs": [],
   "source": [
    "# get model\n",
    "from models import Mean_Reversion\n",
    "mr = Mean_Reversion('Mean Reversion', 200, 10, 2)"
   ]
  },
  {
   "cell_type": "code",
   "execution_count": 14,
   "metadata": {},
   "outputs": [],
   "source": [
    "# build investor\n",
    "from investor import Investor\n",
    "'''\n",
    "the investor class takes a list of models, a world, some settings, and generates ideas\n",
    "for concrete trades to execute\n",
    "'''\n",
    "investor = Investor(models=[mr], world=w, live=False)"
   ]
  },
  {
   "cell_type": "code",
   "execution_count": 15,
   "metadata": {},
   "outputs": [
    {
     "name": "stdout",
     "output_type": "stream",
     "text": [
      "running routine, found 0 trades\n"
     ]
    }
   ],
   "source": [
    "# livetrade with investor\n",
    "investor.routine()"
   ]
  },
  {
   "cell_type": "markdown",
   "metadata": {},
   "source": [
    "# Example 3: Backtesting\n",
    "\n",
    "Testing models on historical data"
   ]
  },
  {
   "cell_type": "code",
   "execution_count": 16,
   "metadata": {},
   "outputs": [],
   "source": [
    "# build base world\n",
    "from indicators import Moving_Average, RSI\n",
    "from world import world_from_live\n",
    "w = world_from_live(basket, cash=10000, indicators=[Moving_Average(n=200), Moving_Average(n=10), RSI(2)])"
   ]
  },
  {
   "cell_type": "code",
   "execution_count": 17,
   "metadata": {},
   "outputs": [],
   "source": [
    "# get model\n",
    "from models import Mean_Reversion\n",
    "mr = Mean_Reversion('Mean Reversion', 200, 10, 2)"
   ]
  },
  {
   "cell_type": "code",
   "execution_count": 18,
   "metadata": {},
   "outputs": [],
   "source": [
    "# build investor\n",
    "from investor import Investor\n",
    "i = Investor(models=[mr], world=w, live=False)"
   ]
  },
  {
   "cell_type": "code",
   "execution_count": 19,
   "metadata": {},
   "outputs": [],
   "source": [
    "# set up backtest\n",
    "from backtest import Backtest\n",
    "b = Backtest(name='mean_reversion_backtest_000', investor=i, base_world=w)"
   ]
  },
  {
   "cell_type": "code",
   "execution_count": null,
   "metadata": {},
   "outputs": [],
   "source": [
    "# do backtest and print results\n",
    "\n",
    "# COMING SOON"
   ]
  }
 ],
 "metadata": {
  "kernelspec": {
   "display_name": "Python 3",
   "language": "python",
   "name": "python3"
  },
  "language_info": {
   "codemirror_mode": {
    "name": "ipython",
    "version": 3
   },
   "file_extension": ".py",
   "mimetype": "text/x-python",
   "name": "python",
   "nbconvert_exporter": "python",
   "pygments_lexer": "ipython3",
   "version": "3.6.0"
  }
 },
 "nbformat": 4,
 "nbformat_minor": 4
}
